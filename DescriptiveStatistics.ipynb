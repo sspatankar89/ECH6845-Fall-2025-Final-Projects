{
 "cells": [
  {
   "cell_type": "markdown",
   "metadata": {},
   "source": [
    "# Descriptive Statistics\n",
    "\n",
    "## Outline\n",
    "### 1. Computing the mean median and variance of a dataset population\n",
    "### 2. Drawing samples and Distribution of sample mean & variance \n",
    "### 3. Bootstrapping"
   ]
  },
  {
   "cell_type": "markdown",
   "metadata": {},
   "source": [
    "## Import libraries and dataset"
   ]
  },
  {
   "cell_type": "code",
   "execution_count": 1,
   "metadata": {
    "tags": []
   },
   "outputs": [],
   "source": [
    "import pandas as pd\n",
    "import numpy as np\n",
    "import matplotlib\n",
    "import matplotlib.pyplot as plt\n",
    "#####\n",
    "\n",
    "from IPython.display import clear_output, display\n",
    "%matplotlib inline\n",
    "matplotlib.rcParams.update({'font.size': 22})"
   ]
  },
  {
   "cell_type": "code",
   "execution_count": 2,
   "metadata": {
    "tags": []
   },
   "outputs": [
    {
     "data": {
      "text/html": [
       "<div>\n",
       "<style scoped>\n",
       "    .dataframe tbody tr th:only-of-type {\n",
       "        vertical-align: middle;\n",
       "    }\n",
       "\n",
       "    .dataframe tbody tr th {\n",
       "        vertical-align: top;\n",
       "    }\n",
       "\n",
       "    .dataframe thead th {\n",
       "        text-align: right;\n",
       "    }\n",
       "</style>\n",
       "<table border=\"1\" class=\"dataframe\">\n",
       "  <thead>\n",
       "    <tr style=\"text-align: right;\">\n",
       "      <th></th>\n",
       "      <th>Happiness Rank</th>\n",
       "      <th>Happiness Score</th>\n",
       "      <th>Standard Error</th>\n",
       "      <th>Economy (GDP per Capita)</th>\n",
       "      <th>Family</th>\n",
       "      <th>Health (Life Expectancy)</th>\n",
       "      <th>Freedom</th>\n",
       "      <th>Trust (Government Corruption)</th>\n",
       "      <th>Generosity</th>\n",
       "      <th>Dystopia Residual</th>\n",
       "    </tr>\n",
       "  </thead>\n",
       "  <tbody>\n",
       "    <tr>\n",
       "      <th>count</th>\n",
       "      <td>158.000000</td>\n",
       "      <td>158.000000</td>\n",
       "      <td>158.000000</td>\n",
       "      <td>158.000000</td>\n",
       "      <td>158.000000</td>\n",
       "      <td>158.000000</td>\n",
       "      <td>158.000000</td>\n",
       "      <td>158.000000</td>\n",
       "      <td>158.000000</td>\n",
       "      <td>158.000000</td>\n",
       "    </tr>\n",
       "    <tr>\n",
       "      <th>mean</th>\n",
       "      <td>79.493671</td>\n",
       "      <td>5.375734</td>\n",
       "      <td>0.047885</td>\n",
       "      <td>0.846137</td>\n",
       "      <td>0.991046</td>\n",
       "      <td>0.630259</td>\n",
       "      <td>0.428615</td>\n",
       "      <td>0.143422</td>\n",
       "      <td>0.237296</td>\n",
       "      <td>2.098977</td>\n",
       "    </tr>\n",
       "    <tr>\n",
       "      <th>std</th>\n",
       "      <td>45.754363</td>\n",
       "      <td>1.145010</td>\n",
       "      <td>0.017146</td>\n",
       "      <td>0.403121</td>\n",
       "      <td>0.272369</td>\n",
       "      <td>0.247078</td>\n",
       "      <td>0.150693</td>\n",
       "      <td>0.120034</td>\n",
       "      <td>0.126685</td>\n",
       "      <td>0.553550</td>\n",
       "    </tr>\n",
       "    <tr>\n",
       "      <th>min</th>\n",
       "      <td>1.000000</td>\n",
       "      <td>2.839000</td>\n",
       "      <td>0.018480</td>\n",
       "      <td>0.000000</td>\n",
       "      <td>0.000000</td>\n",
       "      <td>0.000000</td>\n",
       "      <td>0.000000</td>\n",
       "      <td>0.000000</td>\n",
       "      <td>0.000000</td>\n",
       "      <td>0.328580</td>\n",
       "    </tr>\n",
       "    <tr>\n",
       "      <th>25%</th>\n",
       "      <td>40.250000</td>\n",
       "      <td>4.526000</td>\n",
       "      <td>0.037268</td>\n",
       "      <td>0.545808</td>\n",
       "      <td>0.856823</td>\n",
       "      <td>0.439185</td>\n",
       "      <td>0.328330</td>\n",
       "      <td>0.061675</td>\n",
       "      <td>0.150553</td>\n",
       "      <td>1.759410</td>\n",
       "    </tr>\n",
       "    <tr>\n",
       "      <th>50%</th>\n",
       "      <td>79.500000</td>\n",
       "      <td>5.232500</td>\n",
       "      <td>0.043940</td>\n",
       "      <td>0.910245</td>\n",
       "      <td>1.029510</td>\n",
       "      <td>0.696705</td>\n",
       "      <td>0.435515</td>\n",
       "      <td>0.107220</td>\n",
       "      <td>0.216130</td>\n",
       "      <td>2.095415</td>\n",
       "    </tr>\n",
       "    <tr>\n",
       "      <th>75%</th>\n",
       "      <td>118.750000</td>\n",
       "      <td>6.243750</td>\n",
       "      <td>0.052300</td>\n",
       "      <td>1.158448</td>\n",
       "      <td>1.214405</td>\n",
       "      <td>0.811013</td>\n",
       "      <td>0.549092</td>\n",
       "      <td>0.180255</td>\n",
       "      <td>0.309883</td>\n",
       "      <td>2.462415</td>\n",
       "    </tr>\n",
       "    <tr>\n",
       "      <th>max</th>\n",
       "      <td>158.000000</td>\n",
       "      <td>7.587000</td>\n",
       "      <td>0.136930</td>\n",
       "      <td>1.690420</td>\n",
       "      <td>1.402230</td>\n",
       "      <td>1.025250</td>\n",
       "      <td>0.669730</td>\n",
       "      <td>0.551910</td>\n",
       "      <td>0.795880</td>\n",
       "      <td>3.602140</td>\n",
       "    </tr>\n",
       "  </tbody>\n",
       "</table>\n",
       "</div>"
      ],
      "text/plain": [
       "       Happiness Rank  Happiness Score  Standard Error  \\\n",
       "count      158.000000       158.000000      158.000000   \n",
       "mean        79.493671         5.375734        0.047885   \n",
       "std         45.754363         1.145010        0.017146   \n",
       "min          1.000000         2.839000        0.018480   \n",
       "25%         40.250000         4.526000        0.037268   \n",
       "50%         79.500000         5.232500        0.043940   \n",
       "75%        118.750000         6.243750        0.052300   \n",
       "max        158.000000         7.587000        0.136930   \n",
       "\n",
       "       Economy (GDP per Capita)      Family  Health (Life Expectancy)  \\\n",
       "count                158.000000  158.000000                158.000000   \n",
       "mean                   0.846137    0.991046                  0.630259   \n",
       "std                    0.403121    0.272369                  0.247078   \n",
       "min                    0.000000    0.000000                  0.000000   \n",
       "25%                    0.545808    0.856823                  0.439185   \n",
       "50%                    0.910245    1.029510                  0.696705   \n",
       "75%                    1.158448    1.214405                  0.811013   \n",
       "max                    1.690420    1.402230                  1.025250   \n",
       "\n",
       "          Freedom  Trust (Government Corruption)  Generosity  \\\n",
       "count  158.000000                     158.000000  158.000000   \n",
       "mean     0.428615                       0.143422    0.237296   \n",
       "std      0.150693                       0.120034    0.126685   \n",
       "min      0.000000                       0.000000    0.000000   \n",
       "25%      0.328330                       0.061675    0.150553   \n",
       "50%      0.435515                       0.107220    0.216130   \n",
       "75%      0.549092                       0.180255    0.309883   \n",
       "max      0.669730                       0.551910    0.795880   \n",
       "\n",
       "       Dystopia Residual  \n",
       "count         158.000000  \n",
       "mean            2.098977  \n",
       "std             0.553550  \n",
       "min             0.328580  \n",
       "25%             1.759410  \n",
       "50%             2.095415  \n",
       "75%             2.462415  \n",
       "max             3.602140  "
      ]
     },
     "execution_count": 2,
     "metadata": {},
     "output_type": "execute_result"
    }
   ],
   "source": [
    "df = pd.read_csv('2015.csv')\n",
    "df.describe()"
   ]
  },
  {
   "cell_type": "markdown",
   "metadata": {},
   "source": [
    "We will assume that this dataset is the **full population**. In reality it would still be a sample. Let's look at a histogram of the 'Happiness Score', the histogram is a representation of the **distribution** of the population of Happiness Scores."
   ]
  },
  {
   "cell_type": "code",
   "execution_count": 3,
   "metadata": {
    "tags": []
   },
   "outputs": [
    {
     "data": {
      "image/png": "[encoded data removed]",
      "text/plain": [
       "<Figure size 432x288 with 1 Axes>"
      ]
     },
     "metadata": {
      "needs_background": "light"
     },
     "output_type": "display_data"
    }
   ],
   "source": [
    "df['Happiness Score'].hist(bins=18, color='royalblue', alpha=0.8, density=True)\n",
    "plt.xlabel('Happiness Score')\n",
    "plt.ylabel('Distribution of \\n Happiness Score population')\n",
    "plt.show()"
   ]
  },
  {
   "cell_type": "markdown",
   "metadata": {},
   "source": [
    "We can see that the population isn't normally distributed i.e. **does not follow** a perfect Gaussian or Normal distribution:\n",
    "\n",
    "$$p(x) = \\frac{1}{\\sqrt{ 2 \\pi \\sigma^2 }} e^{ - \\frac{ (x - \\mu)^2 } {2 \\sigma^2} }$$"
   ]
  },
  {
   "cell_type": "markdown",
   "metadata": {},
   "source": [
    "# $\\color{red}{\\text{Practice Question :}}$\n",
    "\n",
    "Using the distribution function for a normal distribution shown above, regenerate the histogram above and add a normal distribution curve to it with mean and std.dev of the Happiness Score."
   ]
  },
  {
   "cell_type": "code",
   "execution_count": 4,
   "metadata": {},
   "outputs": [
    {
     "data": {
      "text/plain": [
       "[<matplotlib.lines.Line2D at 0x150b01cbcd60>]"
      ]
     },
     "execution_count": 4,
     "metadata": {},
     "output_type": "execute_result"
    },
    {
     "data": {
      "image/png": "[encoded data removed]",
      "text/plain": [
       "<Figure size 432x288 with 1 Axes>"
      ]
     },
     "metadata": {
      "needs_background": "light"
     },
     "output_type": "display_data"
    }
   ],
   "source": [
    "# Copy histogram above\n",
    "df['Happiness Score'].hist(bins=18, density=True, color='royalblue',alpha=0.8)\n",
    "plt.xlabel('Happiness Score')\n",
    "plt.ylabel('Probability distribution of \\n Happiness Score population')\n",
    "\n",
    "#meand and stdev from df.describe()\n",
    "sigma = 1.145010\n",
    "mu = 5.375734\n",
    "bins = np.linspace(mu-2*sigma,mu+2*sigma,30) # +/- 2-sigma should cover ~95 % of values\n",
    "\n",
    "#Generate a normal distribution curve using bins as your x value and add it to the graph below -\n",
    "X = bins\n",
    "Y = (1/np.sqrt(2*3.14*sigma**2))*np.exp(-((X-mu)**2)/(2*sigma**2))\n",
    "plt.plot(X,Y,\"k--\")"
   ]
  },
  {
   "cell_type": "markdown",
   "metadata": {},
   "source": [
    "## 1) Computing the mean, median, standard deviation and variance\n",
    "\n",
    "\n",
    "Mean : $${\\mu}=\\frac{\\sum_{i=1}^N X_i}{N}$$ \n",
    "\n",
    "Population Std. Dev (population known): $$\\sigma=\\sqrt{\\sum_{i=1}^N\\frac{(X_i-\\mu)^2}{N}}$$\n",
    "\n",
    "Population Std. Dev (sample): $$S=\\sqrt{\\sum_{i=1}^N\\frac{(X_i-\\mu)^2}{N-1}}$$\n"
   ]
  },
  {
   "cell_type": "code",
   "execution_count": 5,
   "metadata": {},
   "outputs": [
    {
     "name": "stdout",
     "output_type": "stream",
     "text": [
      "5.375734177215189\n"
     ]
    },
    {
     "data": {
      "text/plain": [
       "5.375734177215189"
      ]
     },
     "execution_count": 5,
     "metadata": {},
     "output_type": "execute_result"
    }
   ],
   "source": [
    "N = len(df['Happiness Score'].values)\n",
    "\n",
    "mean = np.sum( df['Happiness Score'].values ) / N \n",
    "print(mean)\n",
    "\n",
    "df['Happiness Score'].mean()"
   ]
  },
  {
   "cell_type": "code",
   "execution_count": 6,
   "metadata": {},
   "outputs": [
    {
     "data": {
      "text/plain": [
       "count    158.000000\n",
       "mean       5.375734\n",
       "std        1.145010\n",
       "min        2.839000\n",
       "25%        4.526000\n",
       "50%        5.232500\n",
       "75%        6.243750\n",
       "max        7.587000\n",
       "Name: Happiness Score, dtype: float64"
      ]
     },
     "execution_count": 6,
     "metadata": {},
     "output_type": "execute_result"
    }
   ],
   "source": [
    "df['Happiness Score'].describe()\n",
    "\n",
    "# df['Happiness Score'].mean()"
   ]
  },
  {
   "cell_type": "markdown",
   "metadata": {},
   "source": [
    "# $\\color{red}{\\text{Practice Question :}}$\n",
    "\n",
    "Compute the standard deviation and variance using built-in functions"
   ]
  },
  {
   "cell_type": "code",
   "execution_count": 7,
   "metadata": {},
   "outputs": [
    {
     "data": {
      "text/plain": [
       "1.1413809336358134"
      ]
     },
     "execution_count": 7,
     "metadata": {},
     "output_type": "execute_result"
    }
   ],
   "source": [
    "df['Happiness Score'].std(ddof=0)"
   ]
  },
  {
   "cell_type": "code",
   "execution_count": 8,
   "metadata": {},
   "outputs": [
    {
     "name": "stdout",
     "output_type": "stream",
     "text": [
      "1.1413809336358134\n"
     ]
    }
   ],
   "source": [
    "#Manually calculate stdev\n",
    "\n",
    "stdev = np.sqrt(np.sum([(Xi - mean)**2 for Xi in df['Happiness Score'].values])/(N))\n",
    "print(stdev)"
   ]
  },
  {
   "cell_type": "markdown",
   "metadata": {},
   "source": [
    "Slightly different standard deviation? Because describe computes std as the corrected sample standard deviation which is unbiased\n",
    "\n",
    "$$\\sigma=\\sqrt{\\sum_{i=1}^{N}\\frac{(X_i-\\mu)^2}{N-1}}$$"
   ]
  },
  {
   "cell_type": "code",
   "execution_count": 9,
   "metadata": {},
   "outputs": [],
   "source": [
    "# variance?\n"
   ]
  },
  {
   "cell_type": "markdown",
   "metadata": {},
   "source": [
    "# median "
   ]
  },
  {
   "cell_type": "code",
   "execution_count": 10,
   "metadata": {},
   "outputs": [
    {
     "name": "stdout",
     "output_type": "stream",
     "text": [
      "my median 5.2325\n",
      "median function 5.2325\n"
     ]
    }
   ],
   "source": [
    "HS = np.sort(df['Happiness Score'].values)\n",
    "if len(HS) %2 == 0:                                          #if even number of elements\n",
    "    median = ( HS[int(len(HS)/2)-1] + HS[int(len(HS)/2)] )/2 # median is mean of middle 2 elements\n",
    "else:                                                        # if odd number of elements\n",
    "    median = HS[int(len(HS)/2)-1] \n",
    "    \n",
    "print(\"my median\", median)    \n",
    "median = df['Happiness Score'].median()\n",
    "print(\"median function\", median)"
   ]
  },
  {
   "cell_type": "markdown",
   "metadata": {},
   "source": [
    "Where do these values end up on the plot?"
   ]
  },
  {
   "cell_type": "code",
   "execution_count": 11,
   "metadata": {},
   "outputs": [
    {
     "data": {
      "image/png": "[encoded data removed]",
      "text/plain": [
       "<Figure size 432x288 with 1 Axes>"
      ]
     },
     "metadata": {
      "needs_background": "light"
     },
     "output_type": "display_data"
    }
   ],
   "source": [
    "df['Happiness Score'].hist(bins=18,density=True,color='royalblue',alpha=0.8)\n",
    "df['Happiness Score'].plot.kde(linewidth=4,color=\"crimson\") # kernel density plot\n",
    "\n",
    "plt.xlabel('Happiness Score')\n",
    "plt.ylabel('Probability distribution of \\n Happiness Score population')\n",
    "\n",
    "\n",
    "plt.axvline(x = mean, lw=3,color='limegreen',label='mean')\n",
    "plt.axvline(x = median, lw=3,color='black',label='median')\n",
    "plt.legend(bbox_to_anchor=(1.05, 1), loc='upper left', fontsize='small')\n",
    "\n",
    "plt.show()"
   ]
  },
  {
   "cell_type": "markdown",
   "metadata": {},
   "source": [
    "## 2) Sampling from a population, sample distributions & the central limit theorem"
   ]
  },
  {
   "cell_type": "markdown",
   "metadata": {},
   "source": [
    "Let's go  to our Clean Energy database and load the data. info - https://dash.harvard.edu/handle/1/8364968"
   ]
  },
  {
   "cell_type": "code",
   "execution_count": 12,
   "metadata": {},
   "outputs": [
    {
     "data": {
      "text/plain": [
       "Index(['Unnamed: 0', 'SMILES_str', 'stoich_str', 'mass', 'pce', 'voc', 'jsc',\n",
       "       'homo', 'lumo'],\n",
       "      dtype='object')"
      ]
     },
     "execution_count": 12,
     "metadata": {},
     "output_type": "execute_result"
    }
   ],
   "source": [
    "data = pd.read_csv('HCEPDB_moldata.csv') \n",
    "data.columns"
   ]
  },
  {
   "cell_type": "code",
   "execution_count": 13,
   "metadata": {},
   "outputs": [
    {
     "data": {
      "text/plain": [
       "Unnamed: 0    1048575\n",
       "SMILES_str    1048575\n",
       "stoich_str    1048575\n",
       "mass          1048575\n",
       "pce           1048575\n",
       "voc           1048575\n",
       "jsc           1048575\n",
       "homo          1048575\n",
       "lumo          1048575\n",
       "dtype: int64"
      ]
     },
     "execution_count": 13,
     "metadata": {},
     "output_type": "execute_result"
    }
   ],
   "source": [
    "data.count()"
   ]
  },
  {
   "cell_type": "markdown",
   "metadata": {},
   "source": [
    "This dataset is huge! We will take a random slice and assume that our slice represents a full population (again this is actually a large sample) and look at the mass values. We are making this approximation to accelerate the calculations in the notebook."
   ]
  },
  {
   "cell_type": "code",
   "execution_count": 14,
   "metadata": {},
   "outputs": [
    {
     "data": {
      "text/plain": [
       "Unnamed: 0    52429\n",
       "SMILES_str    52429\n",
       "stoich_str    52429\n",
       "mass          52429\n",
       "pce           52429\n",
       "voc           52429\n",
       "jsc           52429\n",
       "homo          52429\n",
       "lumo          52429\n",
       "dtype: int64"
      ]
     },
     "execution_count": 14,
     "metadata": {},
     "output_type": "execute_result"
    }
   ],
   "source": [
    "population = data.sample(frac = 0.05, random_state = 3202242) \n",
    "population.count()"
   ]
  },
  {
   "cell_type": "code",
   "execution_count": 15,
   "metadata": {
    "tags": []
   },
   "outputs": [
    {
     "data": {
      "text/html": [
       "<div>\n",
       "<style scoped>\n",
       "    .dataframe tbody tr th:only-of-type {\n",
       "        vertical-align: middle;\n",
       "    }\n",
       "\n",
       "    .dataframe tbody tr th {\n",
       "        vertical-align: top;\n",
       "    }\n",
       "\n",
       "    .dataframe thead th {\n",
       "        text-align: right;\n",
       "    }\n",
       "</style>\n",
       "<table border=\"1\" class=\"dataframe\">\n",
       "  <thead>\n",
       "    <tr style=\"text-align: right;\">\n",
       "      <th></th>\n",
       "      <th>Unnamed: 0</th>\n",
       "      <th>SMILES_str</th>\n",
       "      <th>stoich_str</th>\n",
       "      <th>mass</th>\n",
       "      <th>pce</th>\n",
       "      <th>voc</th>\n",
       "      <th>jsc</th>\n",
       "      <th>homo</th>\n",
       "      <th>lumo</th>\n",
       "    </tr>\n",
       "  </thead>\n",
       "  <tbody>\n",
       "    <tr>\n",
       "      <th>320719</th>\n",
       "      <td>857862</td>\n",
       "      <td>C1C=c2c3cc([nH]c3c3oc4ccc5c[nH]cc5c4c3c2=C1)-c...</td>\n",
       "      <td>C25H14N2O2S</td>\n",
       "      <td>406.4636</td>\n",
       "      <td>0.000000</td>\n",
       "      <td>0.000000</td>\n",
       "      <td>112.773864</td>\n",
       "      <td>-4.531726</td>\n",
       "      <td>-2.646764</td>\n",
       "    </tr>\n",
       "    <tr>\n",
       "      <th>1037982</th>\n",
       "      <td>307484</td>\n",
       "      <td>C1C=c2c(cc3cc4[se]c5ccsc5c4cc3c2=C1)-c1scc2[nH...</td>\n",
       "      <td>C23H13NS2Se</td>\n",
       "      <td>446.4547</td>\n",
       "      <td>1.818927</td>\n",
       "      <td>0.283990</td>\n",
       "      <td>98.573546</td>\n",
       "      <td>-4.883990</td>\n",
       "      <td>-2.909234</td>\n",
       "    </tr>\n",
       "    <tr>\n",
       "      <th>919521</th>\n",
       "      <td>1863166</td>\n",
       "      <td>C1cccc1-c1ccc(-c2cnc(-c3scc4ccCc34)c3nsnc23)c2...</td>\n",
       "      <td>C25H15N3OS2</td>\n",
       "      <td>437.5455</td>\n",
       "      <td>8.129472</td>\n",
       "      <td>0.524483</td>\n",
       "      <td>238.549410</td>\n",
       "      <td>-5.124483</td>\n",
       "      <td>-3.853301</td>\n",
       "    </tr>\n",
       "    <tr>\n",
       "      <th>179318</th>\n",
       "      <td>1270017</td>\n",
       "      <td>C1C=Cc2cc3c4cocc4c4cc(sc4c3cc12)-c1cncs1</td>\n",
       "      <td>C20H11NOS2</td>\n",
       "      <td>345.4449</td>\n",
       "      <td>2.528862</td>\n",
       "      <td>0.728692</td>\n",
       "      <td>53.410747</td>\n",
       "      <td>-5.328692</td>\n",
       "      <td>-2.979697</td>\n",
       "    </tr>\n",
       "    <tr>\n",
       "      <th>864745</th>\n",
       "      <td>90139</td>\n",
       "      <td>[SiH2]1C=c2c(cc3sc4c(c3c2=C1)c1ccccc1c1ccccc41...</td>\n",
       "      <td>C26H17NSSi</td>\n",
       "      <td>403.5793</td>\n",
       "      <td>5.240850</td>\n",
       "      <td>0.514985</td>\n",
       "      <td>156.622761</td>\n",
       "      <td>-5.114985</td>\n",
       "      <td>-3.465444</td>\n",
       "    </tr>\n",
       "  </tbody>\n",
       "</table>\n",
       "</div>"
      ],
      "text/plain": [
       "         Unnamed: 0                                         SMILES_str  \\\n",
       "320719       857862  C1C=c2c3cc([nH]c3c3oc4ccc5c[nH]cc5c4c3c2=C1)-c...   \n",
       "1037982      307484  C1C=c2c(cc3cc4[se]c5ccsc5c4cc3c2=C1)-c1scc2[nH...   \n",
       "919521      1863166  C1cccc1-c1ccc(-c2cnc(-c3scc4ccCc34)c3nsnc23)c2...   \n",
       "179318      1270017           C1C=Cc2cc3c4cocc4c4cc(sc4c3cc12)-c1cncs1   \n",
       "864745        90139  [SiH2]1C=c2c(cc3sc4c(c3c2=C1)c1ccccc1c1ccccc41...   \n",
       "\n",
       "          stoich_str      mass       pce       voc         jsc      homo  \\\n",
       "320719   C25H14N2O2S  406.4636  0.000000  0.000000  112.773864 -4.531726   \n",
       "1037982  C23H13NS2Se  446.4547  1.818927  0.283990   98.573546 -4.883990   \n",
       "919521   C25H15N3OS2  437.5455  8.129472  0.524483  238.549410 -5.124483   \n",
       "179318    C20H11NOS2  345.4449  2.528862  0.728692   53.410747 -5.328692   \n",
       "864745    C26H17NSSi  403.5793  5.240850  0.514985  156.622761 -5.114985   \n",
       "\n",
       "             lumo  \n",
       "320719  -2.646764  \n",
       "1037982 -2.909234  \n",
       "919521  -3.853301  \n",
       "179318  -2.979697  \n",
       "864745  -3.465444  "
      ]
     },
     "execution_count": 15,
     "metadata": {},
     "output_type": "execute_result"
    }
   ],
   "source": [
    "population.head()"
   ]
  },
  {
   "cell_type": "code",
   "execution_count": 16,
   "metadata": {},
   "outputs": [
    {
     "name": "stdout",
     "output_type": "stream",
     "text": [
      "pop mean 396.2912259207691  \n",
      "pop stdev 58.33759776859889\n"
     ]
    }
   ],
   "source": [
    "true_mean = population['mass'].mean()\n",
    "true_stdev = population['mass'].std(ddof=0)\n",
    "print(\"pop mean\", true_mean, \" \\npop stdev\", true_stdev)"
   ]
  },
  {
   "cell_type": "code",
   "execution_count": 17,
   "metadata": {},
   "outputs": [
    {
     "data": {
      "text/plain": [
       "<AxesSubplot: ylabel='Frequency'>"
      ]
     },
     "execution_count": 17,
     "metadata": {},
     "output_type": "execute_result"
    },
    {
     "data": {
      "image/png": "[encoded data removed]",
      "text/plain": [
       "<Figure size 432x288 with 1 Axes>"
      ]
     },
     "metadata": {
      "needs_background": "light"
     },
     "output_type": "display_data"
    }
   ],
   "source": [
    "population['mass'].plot.hist(bins=50, color='violet', density=True)"
   ]
  },
  {
   "cell_type": "markdown",
   "metadata": {},
   "source": [
    "Our goal is to **sample** from the mass values to attempt to compute the true population mean and standard deviation. Let's write a function that samples the  dataframe with an argument *n* that is the number of samples to take. We want to sample without replacement."
   ]
  },
  {
   "cell_type": "code",
   "execution_count": 18,
   "metadata": {},
   "outputs": [
    {
     "data": {
      "text/plain": [
       "numpy.ndarray"
      ]
     },
     "execution_count": 18,
     "metadata": {},
     "output_type": "execute_result"
    }
   ],
   "source": [
    "type(np.array(population['mass'].index))"
   ]
  },
  {
   "cell_type": "code",
   "execution_count": 19,
   "metadata": {},
   "outputs": [],
   "source": [
    "def draw_sample(datafr, column, n):\n",
    "    subset_indices = np.random.choice(np.array(list(datafr[column].index)), size=n, replace=False)\n",
    "    sample = pd.DataFrame(data=datafr[column][subset_indices].values, columns=['sample'])\n",
    "    return sample"
   ]
  },
  {
   "cell_type": "code",
   "execution_count": 20,
   "metadata": {},
   "outputs": [
    {
     "data": {
      "text/html": [
       "<div>\n",
       "<style scoped>\n",
       "    .dataframe tbody tr th:only-of-type {\n",
       "        vertical-align: middle;\n",
       "    }\n",
       "\n",
       "    .dataframe tbody tr th {\n",
       "        vertical-align: top;\n",
       "    }\n",
       "\n",
       "    .dataframe thead th {\n",
       "        text-align: right;\n",
       "    }\n",
       "</style>\n",
       "<table border=\"1\" class=\"dataframe\">\n",
       "  <thead>\n",
       "    <tr style=\"text-align: right;\">\n",
       "      <th></th>\n",
       "      <th>sample</th>\n",
       "    </tr>\n",
       "  </thead>\n",
       "  <tbody>\n",
       "    <tr>\n",
       "      <th>0</th>\n",
       "      <td>425.3516</td>\n",
       "    </tr>\n",
       "    <tr>\n",
       "      <th>1</th>\n",
       "      <td>475.5507</td>\n",
       "    </tr>\n",
       "    <tr>\n",
       "      <th>2</th>\n",
       "      <td>356.4038</td>\n",
       "    </tr>\n",
       "    <tr>\n",
       "      <th>3</th>\n",
       "      <td>497.5106</td>\n",
       "    </tr>\n",
       "    <tr>\n",
       "      <th>4</th>\n",
       "      <td>352.3179</td>\n",
       "    </tr>\n",
       "    <tr>\n",
       "      <th>5</th>\n",
       "      <td>443.6003</td>\n",
       "    </tr>\n",
       "    <tr>\n",
       "      <th>6</th>\n",
       "      <td>355.4018</td>\n",
       "    </tr>\n",
       "    <tr>\n",
       "      <th>7</th>\n",
       "      <td>295.3437</td>\n",
       "    </tr>\n",
       "    <tr>\n",
       "      <th>8</th>\n",
       "      <td>328.3938</td>\n",
       "    </tr>\n",
       "    <tr>\n",
       "      <th>9</th>\n",
       "      <td>392.5564</td>\n",
       "    </tr>\n",
       "    <tr>\n",
       "      <th>10</th>\n",
       "      <td>450.6206</td>\n",
       "    </tr>\n",
       "    <tr>\n",
       "      <th>11</th>\n",
       "      <td>401.5489</td>\n",
       "    </tr>\n",
       "    <tr>\n",
       "      <th>12</th>\n",
       "      <td>330.5576</td>\n",
       "    </tr>\n",
       "    <tr>\n",
       "      <th>13</th>\n",
       "      <td>382.5096</td>\n",
       "    </tr>\n",
       "    <tr>\n",
       "      <th>14</th>\n",
       "      <td>351.4317</td>\n",
       "    </tr>\n",
       "    <tr>\n",
       "      <th>15</th>\n",
       "      <td>394.5206</td>\n",
       "    </tr>\n",
       "    <tr>\n",
       "      <th>16</th>\n",
       "      <td>344.4608</td>\n",
       "    </tr>\n",
       "    <tr>\n",
       "      <th>17</th>\n",
       "      <td>339.4247</td>\n",
       "    </tr>\n",
       "    <tr>\n",
       "      <th>18</th>\n",
       "      <td>418.5960</td>\n",
       "    </tr>\n",
       "    <tr>\n",
       "      <th>19</th>\n",
       "      <td>394.5326</td>\n",
       "    </tr>\n",
       "  </tbody>\n",
       "</table>\n",
       "</div>"
      ],
      "text/plain": [
       "      sample\n",
       "0   425.3516\n",
       "1   475.5507\n",
       "2   356.4038\n",
       "3   497.5106\n",
       "4   352.3179\n",
       "5   443.6003\n",
       "6   355.4018\n",
       "7   295.3437\n",
       "8   328.3938\n",
       "9   392.5564\n",
       "10  450.6206\n",
       "11  401.5489\n",
       "12  330.5576\n",
       "13  382.5096\n",
       "14  351.4317\n",
       "15  394.5206\n",
       "16  344.4608\n",
       "17  339.4247\n",
       "18  418.5960\n",
       "19  394.5326"
      ]
     },
     "execution_count": 20,
     "metadata": {},
     "output_type": "execute_result"
    }
   ],
   "source": [
    "sample = draw_sample(population,'mass', 20)\n",
    "sample"
   ]
  },
  {
   "cell_type": "markdown",
   "metadata": {},
   "source": [
    "# $\\color{red}{\\text{Practice Question :}}$"
   ]
  },
  {
   "cell_type": "markdown",
   "metadata": {},
   "source": [
    "Now we want to draw *M* samples of size *n* from the population and see what the mean and standard deviation are for these samples.\n",
    "\n",
    "Create a function which calls <code>draw_sample</code> *M* times and returns the mean and standard deviation of each sample. \n",
    "\n",
    "Input arguments should include\n",
    "\n",
    "* a variable called <code>sample_funct</code> this variable will be used to refer to the <code>draw_sample</code> function\n",
    "* a variable for the dataframe\n",
    "* a variable for the column of interest\n",
    "* a variable for the number of calls *M*\n",
    "* a variable for the number of data points per samples *n*\n",
    "\n",
    "The output should include\n",
    "\n",
    "* a list which contains the means\n",
    "* a list which contains the standard deviations"
   ]
  },
  {
   "cell_type": "markdown",
   "metadata": {},
   "source": [
    "Hint: your function might look like:\n",
    "\n",
    "<code>def repeat_samples_stats(sample_funct, df, column, M, n):  \n",
    "   means = []  \n",
    "   stdevs = []  \n",
    "   ...  \n",
    "   return (means, stdevs)\n",
    "</code>\n",
    "\n",
    "then use the append method to append each mean and sd value to the end of each respective list."
   ]
  },
  {
   "cell_type": "code",
   "execution_count": 21,
   "metadata": {},
   "outputs": [],
   "source": [
    "## Enter answer for practice question here\n",
    "\n",
    "def repeat_samples_stats(draw_sample, df, column, M, n):\n",
    "    means=[]\n",
    "    stdevs=[]\n",
    "    for i in range(M):\n",
    "        sample = draw_sample(df, column, n)\n",
    "        means.append(np.mean(sample))\n",
    "        stdevs.append(np.std(sample,ddof=1))\n",
    "        \n",
    "    return means,stdevs"
   ]
  },
  {
   "cell_type": "markdown",
   "metadata": {},
   "source": [
    "Let's use our function to make 20 samples and compute 20 means and 20 standard deviations. We will extract 50 points per sample."
   ]
  },
  {
   "cell_type": "code",
   "execution_count": 22,
   "metadata": {},
   "outputs": [],
   "source": [
    "means_1, stdevs_1 = repeat_samples_stats(draw_sample, population, 'mass', 200, 50)"
   ]
  },
  {
   "cell_type": "code",
   "execution_count": 23,
   "metadata": {},
   "outputs": [
    {
     "data": {
      "text/plain": [
       "[400.79011800000006,\n",
       " 397.72340599999995,\n",
       " 390.17539000000005,\n",
       " 383.19042199999996,\n",
       " 402.71777199999997,\n",
       " 398.4201019999999,\n",
       " 397.76079400000003,\n",
       " 399.559396,\n",
       " 396.144188,\n",
       " 385.761034]"
      ]
     },
     "execution_count": 23,
     "metadata": {},
     "output_type": "execute_result"
    }
   ],
   "source": [
    "means_1[0:10]"
   ]
  },
  {
   "cell_type": "markdown",
   "metadata": {},
   "source": [
    "What does the distribution of the means look like - i.e. let's consider all these means as data points part of a sample or population. We will first use matplotlib"
   ]
  },
  {
   "cell_type": "code",
   "execution_count": 24,
   "metadata": {},
   "outputs": [
    {
     "data": {
      "image/png": "[encoded data removed]",
      "text/plain": [
       "<Figure size 432x288 with 1 Axes>"
      ]
     },
     "metadata": {
      "needs_background": "light"
     },
     "output_type": "display_data"
    }
   ],
   "source": [
    "plt.hist(x=means_1,bins=50,density=True)\n",
    "plt.show()"
   ]
  },
  {
   "cell_type": "markdown",
   "metadata": {},
   "source": [
    "### Let's change the number of samples and points per sample"
   ]
  },
  {
   "cell_type": "code",
   "execution_count": 25,
   "metadata": {},
   "outputs": [],
   "source": [
    "means_2, stdevs_2 = repeat_samples_stats(draw_sample, population, 'mass', 500, 1000)"
   ]
  },
  {
   "cell_type": "code",
   "execution_count": 26,
   "metadata": {},
   "outputs": [
    {
     "data": {
      "image/png": "[encoded data removed]",
      "text/plain": [
       "<Figure size 432x288 with 1 Axes>"
      ]
     },
     "metadata": {
      "needs_background": "light"
     },
     "output_type": "display_data"
    }
   ],
   "source": [
    "import seaborn as sns\n",
    "sns.histplot(data=means_2)\n",
    "plt.show()"
   ]
  },
  {
   "cell_type": "markdown",
   "metadata": {},
   "source": [
    "In statistics and machine learning, **bootstrapping** is a resampling technique that involves repeatedly drawing samples from our source data with replacement, often to estimate a population parameter. \n",
    "\n",
    "By “with replacement”, we mean that the same data point may be included in our resampled dataset multiple times."
   ]
  },
  {
   "cell_type": "markdown",
   "metadata": {},
   "source": [
    "Now let's make a function with four arguments `sample_stats_funct`, `df`, `column`, `M` and `n` that takes the return values from the last function and\n",
    "* converts the lists to a single dataframe\n",
    "* plots two histograms of the columns (mean, sd)\n",
    "* prints out the mean and sd of the columns\n",
    "* prints out the standard deviation of the distribution of means"
   ]
  },
  {
   "cell_type": "code",
   "execution_count": 27,
   "metadata": {},
   "outputs": [],
   "source": [
    "def describe_sample(sample_stats_funct, df, column, M, n):\n",
    "    \n",
    "    means, sds = sample_stats_funct(draw_sample, df, column, M, n) \n",
    "    df = pd.DataFrame(data={'means': means, 'sds': sds})\n",
    "    \n",
    "    df.hist(bins=100,color='mediumorchid')\n",
    "    \n",
    "    \n",
    "    print('Mean:', np.round(df['means'].mean(),3))\n",
    "    print('Std Dev:', np.round(df['sds'].mean(), 3))\n",
    "    print('Mean Std Dev:', np.round(df['means'].std(), 3))\n",
    "    \n",
    "    return df"
   ]
  },
  {
   "cell_type": "code",
   "execution_count": 28,
   "metadata": {},
   "outputs": [
    {
     "name": "stdout",
     "output_type": "stream",
     "text": [
      "Mean: 396.248\n",
      "Std Dev: 58.07\n",
      "Mean Std Dev: 5.909\n"
     ]
    },
    {
     "name": "stderr",
     "output_type": "stream",
     "text": [
      "/scratch/local/12108003/ipykernel_901494/2137482426.py:10: FutureWarning: Calling float on a single element Series is deprecated and will raise a TypeError in the future. Use float(ser.iloc[0]) instead\n",
      "  print('Std Dev:', np.round(df['sds'].mean(), 3))\n"
     ]
    },
    {
     "data": {
      "image/png": "[encoded data removed]",
      "text/plain": [
       "<Figure size 432x288 with 1 Axes>"
      ]
     },
     "metadata": {
      "needs_background": "light"
     },
     "output_type": "display_data"
    }
   ],
   "source": [
    "df_100_500 = describe_sample(repeat_samples_stats, population, 'mass', 500, 100)"
   ]
  },
  {
   "cell_type": "code",
   "execution_count": 29,
   "metadata": {},
   "outputs": [
    {
     "name": "stdout",
     "output_type": "stream",
     "text": [
      "N samples = 10\n",
      "Mean: 396.149\n",
      "Std Dev: 58.271\n",
      "Mean Std Dev: 5.018\n",
      "N samples = 100\n"
     ]
    },
    {
     "name": "stderr",
     "output_type": "stream",
     "text": [
      "/scratch/local/12108003/ipykernel_901494/2137482426.py:10: FutureWarning: Calling float on a single element Series is deprecated and will raise a TypeError in the future. Use float(ser.iloc[0]) instead\n",
      "  print('Std Dev:', np.round(df['sds'].mean(), 3))\n",
      "/scratch/local/12108003/ipykernel_901494/2887766946.py:16: FutureWarning: Calling float on a single element Series is deprecated and will raise a TypeError in the future. Use float(ser.iloc[0]) instead\n",
      "  mean_std_samples.append(df['sds'].mean())\n"
     ]
    },
    {
     "name": "stdout",
     "output_type": "stream",
     "text": [
      "Mean: 397.033\n",
      "Std Dev: 57.565\n",
      "Mean Std Dev: 5.459\n",
      "N samples = 500\n"
     ]
    },
    {
     "name": "stderr",
     "output_type": "stream",
     "text": [
      "/scratch/local/12108003/ipykernel_901494/2137482426.py:10: FutureWarning: Calling float on a single element Series is deprecated and will raise a TypeError in the future. Use float(ser.iloc[0]) instead\n",
      "  print('Std Dev:', np.round(df['sds'].mean(), 3))\n",
      "/scratch/local/12108003/ipykernel_901494/2887766946.py:16: FutureWarning: Calling float on a single element Series is deprecated and will raise a TypeError in the future. Use float(ser.iloc[0]) instead\n",
      "  mean_std_samples.append(df['sds'].mean())\n"
     ]
    },
    {
     "name": "stdout",
     "output_type": "stream",
     "text": [
      "Mean: 396.561\n",
      "Std Dev: 58.135\n",
      "Mean Std Dev: 6.142\n",
      "N samples = 1000\n"
     ]
    },
    {
     "name": "stderr",
     "output_type": "stream",
     "text": [
      "/scratch/local/12108003/ipykernel_901494/2137482426.py:10: FutureWarning: Calling float on a single element Series is deprecated and will raise a TypeError in the future. Use float(ser.iloc[0]) instead\n",
      "  print('Std Dev:', np.round(df['sds'].mean(), 3))\n",
      "/scratch/local/12108003/ipykernel_901494/2887766946.py:16: FutureWarning: Calling float on a single element Series is deprecated and will raise a TypeError in the future. Use float(ser.iloc[0]) instead\n",
      "  mean_std_samples.append(df['sds'].mean())\n"
     ]
    },
    {
     "name": "stdout",
     "output_type": "stream",
     "text": [
      "Mean: 396.149\n",
      "Std Dev: 58.438\n",
      "Mean Std Dev: 5.896\n",
      "N samples = 2000\n"
     ]
    },
    {
     "name": "stderr",
     "output_type": "stream",
     "text": [
      "/scratch/local/12108003/ipykernel_901494/2137482426.py:10: FutureWarning: Calling float on a single element Series is deprecated and will raise a TypeError in the future. Use float(ser.iloc[0]) instead\n",
      "  print('Std Dev:', np.round(df['sds'].mean(), 3))\n",
      "/scratch/local/12108003/ipykernel_901494/2887766946.py:16: FutureWarning: Calling float on a single element Series is deprecated and will raise a TypeError in the future. Use float(ser.iloc[0]) instead\n",
      "  mean_std_samples.append(df['sds'].mean())\n"
     ]
    },
    {
     "name": "stdout",
     "output_type": "stream",
     "text": [
      "Mean: 396.15\n",
      "Std Dev: 58.193\n",
      "Mean Std Dev: 5.798\n"
     ]
    },
    {
     "name": "stderr",
     "output_type": "stream",
     "text": [
      "/scratch/local/12108003/ipykernel_901494/2137482426.py:10: FutureWarning: Calling float on a single element Series is deprecated and will raise a TypeError in the future. Use float(ser.iloc[0]) instead\n",
      "  print('Std Dev:', np.round(df['sds'].mean(), 3))\n",
      "/scratch/local/12108003/ipykernel_901494/2887766946.py:16: FutureWarning: Calling float on a single element Series is deprecated and will raise a TypeError in the future. Use float(ser.iloc[0]) instead\n",
      "  mean_std_samples.append(df['sds'].mean())\n"
     ]
    },
    {
     "name": "stdout",
     "output_type": "stream",
     "text": [
      "N samples = 5000\n",
      "Mean: 396.275\n"
     ]
    },
    {
     "name": "stderr",
     "output_type": "stream",
     "text": [
      "/scratch/local/12108003/ipykernel_901494/2137482426.py:10: FutureWarning: Calling float on a single element Series is deprecated and will raise a TypeError in the future. Use float(ser.iloc[0]) instead\n",
      "  print('Std Dev:', np.round(df['sds'].mean(), 3))\n"
     ]
    },
    {
     "name": "stdout",
     "output_type": "stream",
     "text": [
      "Std Dev: 58.235\n",
      "Mean Std Dev: 5.803\n"
     ]
    },
    {
     "name": "stderr",
     "output_type": "stream",
     "text": [
      "/scratch/local/12108003/ipykernel_901494/2887766946.py:16: FutureWarning: Calling float on a single element Series is deprecated and will raise a TypeError in the future. Use float(ser.iloc[0]) instead\n",
      "  mean_std_samples.append(df['sds'].mean())\n"
     ]
    },
    {
     "data": {
      "image/png": "[encoded data removed]",
      "text/plain": [
       "<Figure size 432x288 with 1 Axes>"
      ]
     },
     "metadata": {
      "needs_background": "light"
     },
     "output_type": "display_data"
    },
    {
     "data": {
      "image/png": "[encoded data removed]",
      "text/plain": [
       "<Figure size 432x288 with 1 Axes>"
      ]
     },
     "metadata": {
      "needs_background": "light"
     },
     "output_type": "display_data"
    },
    {
     "data": {
      "image/png": "[encoded data removed]",
      "text/plain": [
       "<Figure size 432x288 with 1 Axes>"
      ]
     },
     "metadata": {
      "needs_background": "light"
     },
     "output_type": "display_data"
    },
    {
     "data": {
      "image/png": "[encoded data removed]",
      "text/plain": [
       "<Figure size 432x288 with 1 Axes>"
      ]
     },
     "metadata": {
      "needs_background": "light"
     },
     "output_type": "display_data"
    },
    {
     "data": {
      "image/png": "[encoded data removed]",
      "text/plain": [
       "<Figure size 432x288 with 1 Axes>"
      ]
     },
     "metadata": {
      "needs_background": "light"
     },
     "output_type": "display_data"
    },
    {
     "data": {
      "image/png": "[encoded data removed]",
      "text/plain": [
       "<Figure size 432x288 with 1 Axes>"
      ]
     },
     "metadata": {
      "needs_background": "light"
     },
     "output_type": "display_data"
    }
   ],
   "source": [
    "Nexamples = 100\n",
    "\n",
    "# mean and std of distribution of means\n",
    "mean_of_means = []\n",
    "std_of_distr_means = []\n",
    "\n",
    "# mean std of samples\n",
    "mean_std_samples = []\n",
    "\n",
    "Ns = [10,100,500,1000,2000,5000]\n",
    "for Nsamples in Ns:\n",
    "    print('N samples =', Nsamples)\n",
    "    df = describe_sample(repeat_samples_stats, population, 'mass', Nsamples, Nexamples)\n",
    "    mean_of_means.append(df['means'].mean())\n",
    "    std_of_distr_means.append(df['means'].std())\n",
    "    mean_std_samples.append(df['sds'].mean())\n",
    "    "
   ]
  },
  {
   "cell_type": "markdown",
   "metadata": {},
   "source": [
    "## Central Limit Theorem\n",
    "\n",
    "In probability theory, the central limit theorem (CLT) establishes that, in many situations, when independent random variables are summed up, their properly normalized sum tends toward a normal distribution even if the original variables themselves are not normally distributed.\n",
    "\n",
    "The theorem is a key concept in probability theory because it implies that probabilistic and statistical methods that work for normal distributions can be applicable to many problems involving other types of distributions."
   ]
  },
  {
   "cell_type": "markdown",
   "metadata": {},
   "source": [
    "# 3. Why Bootstrapping ??\n",
    "\n",
    "In statistics, Bootstrap Sampling is a method that involves drawing of sample data repeatedly with replacement from a data source to estimate a population parameter."
   ]
  },
  {
   "cell_type": "code",
   "execution_count": 30,
   "metadata": {},
   "outputs": [
    {
     "data": {
      "image/png": "[encoded data removed]",
      "text/plain": [
       "<Figure size 720x720 with 4 Axes>"
      ]
     },
     "metadata": {
      "needs_background": "light"
     },
     "output_type": "display_data"
    }
   ],
   "source": [
    "fig,ax = plt.subplots(2,2, figsize=(10,10))\n",
    "ax[0,0].plot(Ns, mean_of_means, ':o', color=\"royalblue\", label=\"means\")\n",
    "ax[0,0].plot(Ns, true_mean*np.ones(len(Ns)), \"-k\", lw=1, label=\"true mean\")\n",
    "ax[0,1].plot(Ns, np.array(std_of_distr_means)*np.sqrt(Nexamples), '--s', color=\"mediumvioletred\", label=\"std of mean distr\")\n",
    "ax[0,1].plot(Ns, true_stdev*np.ones(len(Ns)), '-k', lw=1,  label=\"true standard deviation\")\n",
    "ax[0,0].legend(loc=\"lower right\", fontsize=15)\n",
    "ax[0,1].legend(loc=\"upper right\", fontsize=15)\n",
    "ax[1,0].plot(Ns, np.array(mean_of_means) - true_mean, '--o', color=\"royalblue\", label=\"$\\mu_{samples}-\\mu_{distr}$\")\n",
    "ax[1,1].plot(Ns, np.array(std_of_distr_means)*np.sqrt(Nexamples)- true_stdev, '--s', color=\"mediumvioletred\", label=\"$\\sigma_{samples}\\sqrt{N_{examples}}-\\sigma_{distr}$\")\n",
    "ax[1,0].legend(loc=\"upper right\", fontsize=15)\n",
    "ax[1,1].legend(loc=\"upper right\", fontsize=15)\n",
    "fig.tight_layout()"
   ]
  }
 ],
 "metadata": {
  "kernelspec": {
   "display_name": "UFRC Python-3.10",
   "language": "python",
   "name": "python3-3.10-ufrc"
  },
  "language_info": {
   "codemirror_mode": {
    "name": "ipython",
    "version": 3
   },
   "file_extension": ".py",
   "mimetype": "text/x-python",
   "name": "python",
   "nbconvert_exporter": "python",
   "pygments_lexer": "ipython3",
   "version": "3.10.8"
  }
 },
 "nbformat": 4,
 "nbformat_minor": 4
}
